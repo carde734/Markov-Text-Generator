{
 "cells": [
  {
   "cell_type": "markdown",
   "metadata": {},
   "source": [
    "## Markov Text Generator"
   ]
  },
  {
   "cell_type": "markdown",
   "metadata": {},
   "source": [
    "The markov text generator can be used with 2 functionalities. The text statistics and the text generator itself. The text generator uses the text statistics functionality."
   ]
  },
  {
   "attachments": {},
   "cell_type": "markdown",
   "metadata": {},
   "source": [
    "### Run in the terminal:\n"
   ]
  },
  {
   "cell_type": "code",
   "execution_count": null,
   "metadata": {},
   "outputs": [],
   "source": [
    "python text_stats.py <txt_file> <output_file> #If the last argument is provided, the output is not printed but instead stored in the specified file.\n",
    "\n",
    "\n",
    "python generate_text.py <txt_file> <starting_word> <max_words> #The second argument specifies the starting word, and the last argument determines the number of words to generate."
   ]
  },
  {
   "attachments": {},
   "cell_type": "markdown",
   "metadata": {},
   "source": [
    "### Text Statistics"
   ]
  },
  {
   "attachments": {},
   "cell_type": "markdown",
   "metadata": {},
   "source": [
    "Implemented in text_stats.py\n",
    "\n",
    "The program analyzes a given text and provides information such as:\n",
    "\n",
    "- Frequency table: Counts the occurrence of each alphabetic letter in the text, ordered from most to least common.\n",
    "- Total words: Determines the number of words in the text.\n",
    "- Unique words: Counts the distinct words in the text.\n",
    "- Top five words: Identifies the most frequently used words and their frequencies. It also shows the commonly occurring words that follow each of the top five words."
   ]
  },
  {
   "attachments": {},
   "cell_type": "markdown",
   "metadata": {},
   "source": [
    "### Text Generator"
   ]
  },
  {
   "attachments": {},
   "cell_type": "markdown",
   "metadata": {},
   "source": [
    "Implemented in generate_text.py\n",
    "\n",
    "The program takes three arguments: a text file, a\n",
    "starting word and a maximum number of words. It then generates a new text based on the \"next word\".\n",
    "\n",
    "\n",
    "The \"next word\" structure represents probabilities for word succession. Randomly navigating this system generates new text by following likely word choices. Absence of successors indicates the endpoint. This approach creates varied and playful compositions based on observed patterns in the original text."
   ]
  },
  {
   "cell_type": "markdown",
   "metadata": {},
   "source": [
    "### Applications"
   ]
  },
  {
   "cell_type": "markdown",
   "metadata": {},
   "source": [
    "An example of the markov text generator is given in the following cells. A text file containing the full Lisbon Treaty is used for the analysis.\n",
    "\n",
    "The Lisbon Treaty is an international agreement that amends the two primary treaties governing the functioning of the European Union (EU): the Treaty on European Union (TEU) and the Treaty on the Functioning of the European Union (TFEU). "
   ]
  },
  {
   "cell_type": "markdown",
   "metadata": {},
   "source": [
    "### Example of text statistics application"
   ]
  },
  {
   "cell_type": "code",
   "execution_count": 5,
   "metadata": {},
   "outputs": [
    {
     "name": "stdout",
     "output_type": "stream",
     "text": [
      "\n",
      "\n",
      "\n",
      "Alphabetic letters sorted from most to least common:\n",
      "\n",
      "e - 53230 occurrences\n",
      "t - 40577 occurrences\n",
      "a - 35556 occurrences\n",
      "i - 33091 occurrences\n",
      "n - 31720 occurrences\n",
      "o - 31197 occurrences\n",
      "r - 28815 occurrences\n",
      "s - 21546 occurrences\n",
      "l - 20319 occurrences\n",
      "h - 19665 occurrences\n",
      "c - 19128 occurrences\n",
      "d - 13311 occurrences\n",
      "p - 11931 occurrences\n",
      "u - 10255 occurrences\n",
      "f - 10027 occurrences\n",
      "m - 9070 occurrences\n",
      "b - 6968 occurrences\n",
      "g - 6422 occurrences\n",
      "y - 5030 occurrences\n",
      "w - 3671 occurrences\n",
      "v - 2808 occurrences\n",
      "k - 893 occurrences\n",
      "j - 664 occurrences\n",
      "x - 664 occurrences\n",
      "q - 395 occurrences\n",
      "z - 65 occurrences\n",
      "é - 6 occurrences\n",
      "á - 3 occurrences\n",
      "à - 2 occurrences\n",
      "ö - 2 occurrences\n",
      "ã - 2 occurrences\n",
      "ç - 1 occurrences\n",
      "ø - 1 occurrences\n",
      "ó - 1 occurrences\n",
      "\n",
      "\n",
      "\n",
      "There's a total of 77418 words\n",
      "\n",
      "\n",
      "\n",
      "There's a total of 1008 unique words\n",
      "\n",
      "\n",
      "\n",
      "\n",
      "Top 5 common words and top 3 successors :\n",
      "\n",
      "the ( 9943 occurrences )\n",
      "-- european , 1051\n",
      "-- treaty , 605\n",
      "-- council , 597\n",
      "\n",
      "\n",
      "of ( 4695 occurrences )\n",
      "-- the , 2428\n",
      "-- article , 195\n",
      "-- this , 107\n",
      "\n",
      "\n",
      "article ( 3280 occurrences )\n",
      "-- article , 1366\n",
      "-- shall , 334\n",
      "-- of , 333\n",
      "\n",
      "\n",
      "shall ( 2567 occurrences )\n",
      "-- be , 1595\n",
      "-- not , 85\n",
      "-- become , 77\n",
      "\n",
      "\n",
      "and ( 2493 occurrences )\n",
      "-- the , 475\n",
      "-- of , 118\n",
      "-- security , 107\n",
      "\n",
      "\n",
      "\n",
      "\n",
      "Duration: 0:00:02.694959\n"
     ]
    }
   ],
   "source": [
    "# Takes the txt file \n",
    "%run text_stats lisbon_treaty.txt"
   ]
  },
  {
   "cell_type": "markdown",
   "metadata": {},
   "source": [
    "### Example of text generator application"
   ]
  },
  {
   "cell_type": "code",
   "execution_count": 4,
   "metadata": {},
   "outputs": [
    {
     "name": "stdout",
     "output_type": "stream",
     "text": [
      "\n",
      " law the common positions iii of an opinion of equal treatment of the words obtaining the following articles and the applicable prior to articles the outcome of the management of the security policy the necessary for the council may decide to facilitate mutual solidarity obligation shall be attained agree on proposal for the functioning of the euro at the activities the words and the commission shall aim of the term nationals of the the member states in point the unions chapter judicial cooperation with the purpose of the content and operational action article article the area ii provisions of missions undertaken within the treaty establishing the adoption by the different areas of the treaties confer on the following statute of that it unless all of the functioning of the council and of the union includes the treaty on democratic on european union shall after the fight against legislative procedure shall be replaced by the following new articles to find that the equality between the european union title vii of the basis of civil matters or the basis of the following the high representative of the procedure the english version statute shall be replaced by the text or of its objectives serve its books kept fully informed article article article article article of representatives of poland the union general provisions title iii provisions in order to the number of derogation from any member states concerning the minimum rules or to comply with point shall be replaced by qualified majority in the ability to work in number of article shall be put in paragraph shall be replaced by qualified majority shall establish minimum number of the eaec treaty on denmark as the following article paragraph in substance by resignation compulsory retirement or to article shall enter into force on the decision referred to their actions of sincere cooperation with the european union article article article shall be determined in the european central bank regarding the staff and its members of this protocol on the european union for the member state for the following the european union chapter shall act originates from them shall have period of the date of the commission or territory the currency is recalled that paragraph replaces the rights to the terms of entry into account the functioning of its application of article shall serve to replace the word euro as they are addressed to the words after unanimously agree upon the appropriations provided for period referred to the agencys activities the members votes cast in paragraph article article article the treaty the functioning of responsibility of the first paragraph of the european chapter institutional and article article paragraph article first subparagraph the council shall be replaced by the union negotiator shall be bound by the treaty on the republic of the other member states and the regulation referred to the unions policies part three eleven instead of the representatives and article chapter customs chapter customs customs customs union title and agencies singular or acts which have signed this\n",
      "\n",
      "Duration: 0:02:13.192477\n"
     ]
    }
   ],
   "source": [
    "# Takes the txt file, the word law as starter and 500 as the number of words\n",
    "%run generate_text lisbon_treaty.txt law 500"
   ]
  }
 ],
 "metadata": {
  "kernelspec": {
   "display_name": "Python 3 (ipykernel)",
   "language": "python",
   "name": "python3"
  },
  "language_info": {
   "codemirror_mode": {
    "name": "ipython",
    "version": 3
   },
   "file_extension": ".py",
   "mimetype": "text/x-python",
   "name": "python",
   "nbconvert_exporter": "python",
   "pygments_lexer": "ipython3",
   "version": "3.9.7"
  }
 },
 "nbformat": 4,
 "nbformat_minor": 2
}
